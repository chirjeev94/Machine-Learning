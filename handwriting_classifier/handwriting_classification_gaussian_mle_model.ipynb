{
 "cells": [
  {
   "cell_type": "code",
   "execution_count": 1,
   "metadata": {},
   "outputs": [],
   "source": [
    "import scipy.io as spio"
   ]
  },
  {
   "cell_type": "code",
   "execution_count": 2,
   "metadata": {},
   "outputs": [],
   "source": [
    "mat = spio.loadmat('hw1data.mat', squeeze_me=True)"
   ]
  },
  {
   "cell_type": "code",
   "execution_count": 104,
   "metadata": {},
   "outputs": [
    {
     "name": "stdout",
     "output_type": "stream",
     "text": [
      "[0 0 0 0] 9\n"
     ]
    }
   ],
   "source": [
    "image_matrix=mat['X']\n",
    "label_array=mat['Y']\n",
    "\n",
    "print(image_matrix[0][1:5],label_array[0])"
   ]
  },
  {
   "cell_type": "code",
   "execution_count": 136,
   "metadata": {},
   "outputs": [
    {
     "name": "stdout",
     "output_type": "stream",
     "text": [
      "0.51\n"
     ]
    }
   ],
   "source": [
    "import numpy as np\n",
    "import scipy.io as spio\n",
    "import scipy.stats as stats\n",
    "import math\n",
    "\n",
    "class GaussianProbabilisticModel:\n",
    "    \n",
    "    def __init__(self,num_classes,mle_mu_map,mle_sigma_map,class_prob_map):\n",
    "        self.num_classes=num_classes\n",
    "        self.mle_mu_map={}\n",
    "        self.mle_sigma_map={}\n",
    "        self.class_prob_map={}\n",
    "\n",
    "    ##should be private\n",
    "    def gaussian_pdf_helper(self,x,mu,sigma):\n",
    "        rv=stats.multivariate_normal(mean=mu,cov=sigma+0.1*np.eye(len(mu),len(mu)))\n",
    "        #print(rv.pdf(x))\n",
    "        return rv.pdf(x)\n",
    "                \n",
    "        ##  calculate f(x)~multivariate Normal density\n",
    "    def train_model(self,training_data,labels):\n",
    "        nums={}\n",
    "        for i in range(len(training_data)):\n",
    "            if not (labels[i] in self.mle_mu_map):\n",
    "                self.mle_mu_map[labels[i]]=training_data[i]\n",
    "                nums[labels[i]]=1\n",
    "            else:\n",
    "                self.mle_mu_map[labels[i]]=self.mle_mu_map[labels[i]]+training_data[i]\n",
    "                nums[labels[i]]=nums[labels[i]]+1\n",
    "        \n",
    "        for i in range(self.num_classes):\n",
    "            self.mle_mu_map[i]=(1.0/nums[i])*self.mle_mu_map[i]\n",
    "        \n",
    "        for i in range(len(training_data)):\n",
    "            if not (labels[i] in self.mle_sigma_map):\n",
    "                self.mle_sigma_map[labels[i]]=(np.matrix(training_data[i]-self.mle_mu_map[labels[i]]).T)*(np.matrix(training_data[i]-self.mle_mu_map[labels[i]]))\n",
    "                \n",
    "            else:\n",
    "                self.mle_sigma_map[labels[i]]=self.mle_sigma_map[labels[i]]+(np.matrix(training_data[i]-self.mle_mu_map[labels[i]]).T)*(np.matrix(training_data[i]-self.mle_mu_map[labels[i]]))\n",
    "                       \n",
    "        \n",
    "        for i in range(self.num_classes):\n",
    "            self.mle_sigma_map[i]=(1.0/nums[i])*self.mle_sigma_map[i]\n",
    "            #print(nums[i],len(training_data))\n",
    "            self.class_prob_map[i]=(nums[i]*1.0)/len(training_data)*1.0\n",
    "        ##Steps:\n",
    "        ##1: Partition data according to labels\n",
    "        \n",
    "        ##2: Compute MLE of mu and sigma for each label\n",
    "    def predict(self,x):\n",
    "        prediction=0\n",
    "        curr_max=0;\n",
    "        for i in range(self.num_classes):\n",
    "            p=self.gaussian_pdf_helper(x,self.mle_mu_map[i],self.mle_sigma_map[i])*self.class_prob_map[i]\n",
    "            #print(self.class_prob_map[i])\n",
    "            if(p>curr_max):\n",
    "                curr_max=p\n",
    "                prediction=i\n",
    "        return prediction\n",
    "            \n",
    "                \n",
    "                \n",
    "                \n",
    "                \n",
    "        \n",
    "    def testing_error(self,test_data,labels):\n",
    "        misses=0\n",
    "        for i in range(len(test_data)):\n",
    "            if(self.predict(test_data[i])!=labels[i]):\n",
    "                misses=misses+1\n",
    "        return (misses*1.0/len(test_data))\n",
    "            \n",
    "    \n",
    "        ##Steps:\n",
    "        ##1: return argmax P[X=x/Y=y]*P[Y=y]\n",
    "\n",
    "mat = spio.loadmat('hw1data.mat', squeeze_me=True)\n",
    "image_matrix=np.asarray(mat['X'], dtype=np.int32)\n",
    "\n",
    "label_array=np.asarray(mat['Y'], dtype=np.int32)\n",
    "\n",
    "    \n",
    "gaussian_model= GaussianProbabilisticModel(10,{},{},{})\n",
    "gaussian_model.train_model(image_matrix[0:9000,500:],label_array[0:9000])\n",
    "print(gaussian_model.testing_error(image_matrix[9000:9100,500:],label_array[9000:9100]))\n",
    "\n"
   ]
  },
  {
   "cell_type": "code",
   "execution_count": 134,
   "metadata": {
    "scrolled": true
   },
   "outputs": [
    {
     "name": "stdout",
     "output_type": "stream",
     "text": [
      "6 6\n"
     ]
    }
   ],
   "source": [
    "#print(gaussian_model.testing_error(image_matrix[30:50,:],label_array[30:50]))\n",
    "\n",
    "#print(gaussian_model.mle_mu_map.values())\n",
    "print(gaussian_model.predict(image_matrix[7002,500:]),label_array[7002])\n",
    "#print(gaussian_model.gaussian_pdf_helper(np.array([1, 1, 1, 1]),np.array([0, 0, 0, 0]),np.matrix([[1,0,0,0],[0,1,0,0],[0,0,1,0],[0,0,0,1]])))"
   ]
  },
  {
   "cell_type": "code",
   "execution_count": 68,
   "metadata": {},
   "outputs": [
    {
     "name": "stdout",
     "output_type": "stream",
     "text": [
      "0.3989422804014327 0.3989422804014327\n"
     ]
    }
   ],
   "source": [
    "rv=stats.multivariate_normal(mean=0,cov=1)\n",
    "print(rv.pdf(0),1/math.sqrt(2*math.pi))\n"
   ]
  },
  {
   "cell_type": "code",
   "execution_count": 90,
   "metadata": {},
   "outputs": [
    {
     "name": "stdout",
     "output_type": "stream",
     "text": [
      "False\n"
     ]
    }
   ],
   "source": [
    "dict={1:0,2:0,3:0}\n",
    "dict[4]=5\n",
    "\n",
    "print(not (4 in dict))"
   ]
  },
  {
   "cell_type": "code",
   "execution_count": null,
   "metadata": {},
   "outputs": [],
   "source": []
  }
 ],
 "metadata": {
  "kernelspec": {
   "display_name": "Python 3",
   "language": "python",
   "name": "python3"
  },
  "language_info": {
   "codemirror_mode": {
    "name": "ipython",
    "version": 3
   },
   "file_extension": ".py",
   "mimetype": "text/x-python",
   "name": "python",
   "nbconvert_exporter": "python",
   "pygments_lexer": "ipython3",
   "version": "3.6.3"
  }
 },
 "nbformat": 4,
 "nbformat_minor": 2
}
