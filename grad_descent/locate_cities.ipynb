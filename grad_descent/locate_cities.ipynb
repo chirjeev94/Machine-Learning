{
 "cells": [
  {
   "cell_type": "code",
   "execution_count": 1,
   "metadata": {},
   "outputs": [],
   "source": [
    "#!/usr/bin/env python2\n",
    "# -*- coding: utf-8 -*-\n",
    "\"\"\"\n",
    "Created on Tue Apr 17 00:42:53 2018\n",
    "\n",
    "@author: chintandoshi\n",
    "\"\"\"\n",
    "\n",
    "import numpy as np\n",
    "import numpy.linalg as la\n",
    "import matplotlib.pyplot as plt\n",
    "\n",
    "D = [[0,206,429,1504,963,2976,3095,2979,1949],\n",
    "[206,0,233,1308,802,2815,2934,2786,1771],\n",
    "[429,233,0,1075,671,2684,2799,2631,1616],\n",
    "[1504,1308,1075,0,1329,3273,3053,2687,2037],\n",
    "[963,802,671,1329,0,2013,2142,2054,996],\n",
    "[2976,2815,2684,3273,2013,0,808,1131,1307],\n",
    "[3095,2934,2799,3053,2142,808,0,379,1235],\n",
    "[2979,2786,2631,2687,2054,1131,379,0,1059],\n",
    "[1949,1771,1616,2037,996,1307,1235,1059,0]]\n",
    "D = np.array(D)\n",
    "names = ['BOS','NYC','DC','MIA','CHI','SEA','SF','LA','DEN']\n",
    "x = np.zeros((9,2))"
   ]
  },
  {
   "cell_type": "code",
   "execution_count": 2,
   "metadata": {},
   "outputs": [],
   "source": [
    "def grad(i):\n",
    "    global D,x\n",
    "    loop = range(9)\n",
    "    loop.pop(i)\n",
    "    lis = [(1 - (D[i][j]/la.norm(x[i]-x[j])))*(x[i]-x[j]) for j in loop]\n",
    "    return 4 * sum(lis)\n",
    "\n",
    "def func():\n",
    "    global x\n",
    "    total = 0.0\n",
    "    for i in range(9):\n",
    "        for j in range(9):\n",
    "            total += ((la.norm(x[i] - x[j]) - D[i][j])**2)\n",
    "    return total\n",
    "    \n",
    "# learning rate = alpha\n",
    "# convergence criteria = ep\n",
    " \n",
    "def gradient_descent(alpha = 0.001, ep=0.000001, max_iter=1000000):\n",
    "    global x\n",
    "    converged = False\n",
    "    iter = 0\n",
    "    x = np.random.rand(9,2)\n",
    "    J = func()\n",
    "\n",
    "    while not converged:\n",
    "        gradlist = [grad(i) for i in range(9)]\n",
    "        tempx = [x[i] - alpha * gradlist[i] for i in range(9)]\n",
    "        x = np.array(tempx)\n",
    "        e = func()\n",
    "        if abs(J-e) <= ep:\n",
    "            print J\n",
    "            print e\n",
    "            print 'Converged, iterations: ', iter, '!!!'\n",
    "            converged = True\n",
    "        J = e   \n",
    "        iter += 1\n",
    "        if iter == max_iter:\n",
    "            print 'Max interactions exceeded!'\n",
    "            converged = True\n",
    "\n",
    "    return x\n",
    "\n",
    "def plot():\n",
    "    global x,names\n",
    "    xval = x.T[0]\n",
    "    yval = x.T[1]\n",
    "    fig, ax = plt.subplots()\n",
    "    ax.scatter(xval, yval)\n",
    "    for i, txt in enumerate(names):\n",
    "        ax.annotate(txt, (xval[i],yval[i]))\n",
    "    plt.show()"
   ]
  },
  {
   "cell_type": "code",
   "execution_count": 12,
   "metadata": {},
   "outputs": [
    {
     "name": "stdout",
     "output_type": "stream",
     "text": [
      "908466.6760614113\n",
      "908466.6760604157\n",
      "Converged, iterations:  5125 !!!\n"
     ]
    },
    {
     "data": {
      "text/plain": [
       "array([[  916.46100205, -1093.91918361],\n",
       "       [  719.37207664, -1014.35457328],\n",
       "       [  483.83298885,  -976.16328994],\n",
       "       [ -450.58881669, -1502.65373231],\n",
       "       [  198.38827804,  -392.50060858],\n",
       "       [-1123.49510271,  1276.2328405 ],\n",
       "       [ -475.64225999,  1650.71416591],\n",
       "       [ -143.4246764 ,  1544.28702671],\n",
       "       [ -121.45400365,   511.90444183]])"
      ]
     },
     "execution_count": 12,
     "metadata": {},
     "output_type": "execute_result"
    }
   ],
   "source": [
    "gradient_descent()"
   ]
  },
  {
   "cell_type": "code",
   "execution_count": 13,
   "metadata": {},
   "outputs": [
    {
     "data": {
      "image/png": "[encoded data removed]",
      "text/plain": [
       "<matplotlib.figure.Figure at 0x11b251190>"
      ]
     },
     "metadata": {},
     "output_type": "display_data"
    }
   ],
   "source": [
    "plot()"
   ]
  }
 ],
 "metadata": {
  "kernelspec": {
   "display_name": "Python 2",
   "language": "python",
   "name": "python2"
  },
  "language_info": {
   "codemirror_mode": {
    "name": "ipython",
    "version": 2
   },
   "file_extension": ".py",
   "mimetype": "text/x-python",
   "name": "python",
   "nbconvert_exporter": "python",
   "pygments_lexer": "ipython2",
   "version": "2.7.14"
  }
 },
 "nbformat": 4,
 "nbformat_minor": 2
}
