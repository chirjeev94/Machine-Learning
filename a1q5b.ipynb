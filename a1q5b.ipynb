{
 "cells": [
  {
   "cell_type": "code",
   "execution_count": 20,
   "metadata": {},
   "outputs": [
    {
     "name": "stdout",
     "output_type": "stream",
     "text": [
      "L2 Test error: 0.11\n",
      "L1 Test error: 0.14\n",
      "Linf Test error: 0.47\n"
     ]
    }
   ],
   "source": [
    "import numpy as np\n",
    "import scipy.io as spio\n",
    "import scipy.stats as stats\n",
    "import math\n",
    "\n",
    "def EuclideanDistance(x,y):\n",
    "    return np.linalg.norm(np.array(y)-np.array(x))\n",
    "\n",
    "def L1Distance(x,y):\n",
    "    return np.sum(abs(np.array(y)-np.array(x)))\n",
    "\n",
    "def LinfDistance(x,y):\n",
    "    return max(abs(np.array(y)-np.array(x)))\n",
    "\n",
    "class kNNModel:\n",
    "    \n",
    "    def __init__(self, dist_function):\n",
    "        self.dist_function = dist_function\n",
    "        \n",
    "    # computes the distance from x to each element in lst, which is a list of vectors\n",
    "    def __dist(self, x, lst, lst_labels):\n",
    "        dists = [self.dist_function(x,e) for e in lst]\n",
    "        vec_label_dist_tuple = list(zip(lst,lst_labels,dists))\n",
    "        return vec_label_dist_tuple\n",
    "                \n",
    "    def train_model(self,training_data,labels):\n",
    "        # k will be log(# of data points) rounded to the nearest integer\n",
    "        self.k = int(np.log(len(training_data)) + 0.5)\n",
    "        self.data = training_data.tolist()\n",
    "        self.labels = labels\n",
    "        \n",
    "    def predict(self,x):\n",
    "        vec_label_dist_tuple = self.__dist(x,self.data,self.labels)\n",
    "        # sort by distance\n",
    "        vec_label_dist_tuple_sorted = sorted(vec_label_dist_tuple, key=lambda f: f[2])\n",
    "        # get an array containing (label,distance) tuples\n",
    "        k_closest = [list((e[1],e[2])) for e in vec_label_dist_tuple_sorted[:self.k]]\n",
    "        # group by frequency of label\n",
    "        count_dic = {}\n",
    "        for tup in k_closest:\n",
    "            if tup[0] not in count_dic:\n",
    "                count_dic[tup[0]] = 1.0\n",
    "            else:\n",
    "                count_dic[tup[0]] += 1.0\n",
    "        \n",
    "        prediction = max(count_dic, key=count_dic.get)\n",
    "        return prediction          \n",
    "        \n",
    "    def testing_error(self,test_data,labels):\n",
    "        misses=0\n",
    "        for i in range(len(test_data)):\n",
    "            if(self.predict(test_data[i])!=labels[i]):\n",
    "                misses=misses+1\n",
    "        return (misses*1.0/len(test_data))\n",
    "    \n",
    "mat = spio.loadmat('hw1data.mat', squeeze_me=True)\n",
    "image_matrix=mat['X']\n",
    "label_array=mat['Y']   \n",
    "\n",
    "kNN_model_L2 = kNNModel(EuclideanDistance)\n",
    "kNN_model_L2.train_model(image_matrix[:1000,:],label_array[:1000])\n",
    "L2_test_error = kNN_model_L2.testing_error(image_matrix[1001:1101,:],label_array[1001:1101])\n",
    "print(\"L2 Test error: \" + str(L2_test_error))\n",
    "\n",
    "kNN_model_L1 = kNNModel(L1Distance)\n",
    "kNN_model_L1.train_model(image_matrix[:1000,:],label_array[:1000])\n",
    "L1_test_error = kNN_model_L1.testing_error(image_matrix[1001:1101,:],label_array[1001:1101])\n",
    "print(\"L1 Test error: \" + str(L1_test_error))\n",
    "\n",
    "kNN_model_Linf = kNNModel(LinfDistance)\n",
    "kNN_model_Linf.train_model(image_matrix[:1000,:],label_array[:1000])\n",
    "Linf_test_error = kNN_model_Linf.testing_error(image_matrix[1001:1101,:],label_array[1001:1101])\n",
    "print(\"Linf Test error: \" + str(Linf_test_error))"
   ]
  },
  {
   "cell_type": "code",
   "execution_count": null,
   "metadata": {
    "collapsed": true
   },
   "outputs": [],
   "source": []
  }
 ],
 "metadata": {
  "kernelspec": {
   "display_name": "Python 3",
   "language": "python",
   "name": "python3"
  },
  "language_info": {
   "codemirror_mode": {
    "name": "ipython",
    "version": 3
   },
   "file_extension": ".py",
   "mimetype": "text/x-python",
   "name": "python",
   "nbconvert_exporter": "python",
   "pygments_lexer": "ipython3",
   "version": "3.6.3"
  }
 },
 "nbformat": 4,
 "nbformat_minor": 2
}
